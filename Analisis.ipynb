{
 "cells": [
  {
   "cell_type": "code",
   "execution_count": 168,
   "metadata": {},
   "outputs": [],
   "source": [
    "#Importacion de bibliotecas\n",
    "import pandas as pd \n",
    "import numpy as np\n",
    "#import chardet\n"
   ]
  },
  {
   "attachments": {},
   "cell_type": "markdown",
   "metadata": {},
   "source": [
    "Analisis preliminar de la data"
   ]
  },
  {
   "cell_type": "code",
   "execution_count": 169,
   "metadata": {},
   "outputs": [
    {
     "name": "stdout",
     "output_type": "stream",
     "text": [
      "<class 'pandas.core.frame.DataFrame'>\n",
      "RangeIndex: 1000 entries, 0 to 999\n",
      "Data columns (total 7 columns):\n",
      " #   Column                   Non-Null Count  Dtype  \n",
      "---  ------                   --------------  -----  \n",
      " 0   #Pedido                  1000 non-null   object \n",
      " 1   Fecha Ingreso Pedido     1000 non-null   object \n",
      " 2   Hora Ingreso Pedido      1000 non-null   int64  \n",
      " 3   Destino                  1000 non-null   object \n",
      " 4   Toneladas Pedidas        997 non-null    float64\n",
      " 5   Tiempo de Carga (min)    999 non-null    object \n",
      " 6   Tiempo de Entrega (min)  997 non-null    object \n",
      "dtypes: float64(1), int64(1), object(5)\n",
      "memory usage: 54.8+ KB\n"
     ]
    },
    {
     "data": {
      "text/plain": [
       "(1000, 7)"
      ]
     },
     "execution_count": 169,
     "metadata": {},
     "output_type": "execute_result"
    }
   ],
   "source": [
    "\n",
    "df = pd.read_csv(\"TP1_data.csv\",  sep= \";\", thousands= ',', decimal = '.')\n",
    "#Elimino los tabs del dataFrame habia tabs en las dos ultimas columnas\n",
    "df = df.replace('\\t', '', regex=True)\n",
    "df.info() #Observo que hay datos faltantes en Toneladas pedidas, Tiempo de Carga y Tiempo de Entrega\n",
    "df.shape"
   ]
  },
  {
   "cell_type": "markdown",
   "metadata": {},
   "source": [
    "Renombramiento de Columnas"
   ]
  },
  {
   "cell_type": "code",
   "execution_count": 170,
   "metadata": {},
   "outputs": [
    {
     "data": {
      "text/html": [
       "<div>\n",
       "<style scoped>\n",
       "    .dataframe tbody tr th:only-of-type {\n",
       "        vertical-align: middle;\n",
       "    }\n",
       "\n",
       "    .dataframe tbody tr th {\n",
       "        vertical-align: top;\n",
       "    }\n",
       "\n",
       "    .dataframe thead th {\n",
       "        text-align: right;\n",
       "    }\n",
       "</style>\n",
       "<table border=\"1\" class=\"dataframe\">\n",
       "  <thead>\n",
       "    <tr style=\"text-align: right;\">\n",
       "      <th></th>\n",
       "      <th>Pedido</th>\n",
       "      <th>Fecha_Ingreso_Pedido</th>\n",
       "      <th>Hora_Ingreso_Pedido</th>\n",
       "      <th>Destino</th>\n",
       "      <th>Toneladas_Pedidas</th>\n",
       "      <th>Tiempo_de_Carga_(min)</th>\n",
       "      <th>Tiempo_de_Entrega_(min)</th>\n",
       "    </tr>\n",
       "  </thead>\n",
       "  <tbody>\n",
       "    <tr>\n",
       "      <th>0</th>\n",
       "      <td>#0901003</td>\n",
       "      <td>1/1/22</td>\n",
       "      <td>14</td>\n",
       "      <td>Junín</td>\n",
       "      <td>6.0</td>\n",
       "      <td>40</td>\n",
       "      <td>41</td>\n",
       "    </tr>\n",
       "    <tr>\n",
       "      <th>1</th>\n",
       "      <td>#0901004</td>\n",
       "      <td>1/1/22</td>\n",
       "      <td>11</td>\n",
       "      <td>Tandil</td>\n",
       "      <td>5.0</td>\n",
       "      <td>21</td>\n",
       "      <td>410</td>\n",
       "    </tr>\n",
       "    <tr>\n",
       "      <th>2</th>\n",
       "      <td>#0901005</td>\n",
       "      <td>1/1/22</td>\n",
       "      <td>15</td>\n",
       "      <td>Junín</td>\n",
       "      <td>10.0</td>\n",
       "      <td>32</td>\n",
       "      <td>41</td>\n",
       "    </tr>\n",
       "    <tr>\n",
       "      <th>3</th>\n",
       "      <td>#0901006</td>\n",
       "      <td>1/2/22</td>\n",
       "      <td>9</td>\n",
       "      <td>Tandil</td>\n",
       "      <td>5.0</td>\n",
       "      <td>30</td>\n",
       "      <td>38</td>\n",
       "    </tr>\n",
       "    <tr>\n",
       "      <th>4</th>\n",
       "      <td>#0901007</td>\n",
       "      <td>1/2/22</td>\n",
       "      <td>14</td>\n",
       "      <td>Junín</td>\n",
       "      <td>5.0</td>\n",
       "      <td>39</td>\n",
       "      <td>45</td>\n",
       "    </tr>\n",
       "  </tbody>\n",
       "</table>\n",
       "</div>"
      ],
      "text/plain": [
       "     Pedido Fecha_Ingreso_Pedido  Hora_Ingreso_Pedido Destino  \\\n",
       "0  #0901003               1/1/22                   14   Junín   \n",
       "1  #0901004               1/1/22                   11  Tandil   \n",
       "2  #0901005               1/1/22                   15   Junín   \n",
       "3  #0901006               1/2/22                    9  Tandil   \n",
       "4  #0901007               1/2/22                   14   Junín   \n",
       "\n",
       "   Toneladas_Pedidas Tiempo_de_Carga_(min) Tiempo_de_Entrega_(min)  \n",
       "0                6.0                   40                      41   \n",
       "1                5.0                   21                     410   \n",
       "2               10.0                   32                      41   \n",
       "3                5.0                   30                      38   \n",
       "4                5.0                   39                      45   "
      ]
     },
     "execution_count": 170,
     "metadata": {},
     "output_type": "execute_result"
    }
   ],
   "source": [
    "#Replazo los espacion por guion bajo\n",
    "df = df.rename(columns=lambda x: x.replace(' ', '_'))\n",
    "df = df.rename(columns={'#Pedido' : 'Pedido'})\n",
    "\n",
    "df.head(5)"
   ]
  },
  {
   "attachments": {},
   "cell_type": "markdown",
   "metadata": {},
   "source": [
    "FALTANTES\n"
   ]
  },
  {
   "cell_type": "code",
   "execution_count": 171,
   "metadata": {},
   "outputs": [
    {
     "name": "stdout",
     "output_type": "stream",
     "text": [
      "Pedido                     0\n",
      "Fecha_Ingreso_Pedido       0\n",
      "Hora_Ingreso_Pedido        0\n",
      "Destino                    0\n",
      "Toneladas_Pedidas          3\n",
      "Tiempo_de_Carga_(min)      1\n",
      "Tiempo_de_Entrega_(min)    3\n",
      "dtype: int64\n",
      "Pedido  Fecha_Ingreso_Pedido  Hora_Ingreso_Pedido  Destino  Toneladas_Pedidas  Tiempo_de_Carga_(min)  Tiempo_de_Entrega_(min)\n",
      "False   False                 False                False    False              False                  False                      993\n",
      "                                                                                                      True                         3\n",
      "                                                            True               False                  False                        3\n",
      "                                                            False              True                   False                        1\n",
      "dtype: int64\n"
     ]
    },
    {
     "data": {
      "text/html": [
       "<div>\n",
       "<style scoped>\n",
       "    .dataframe tbody tr th:only-of-type {\n",
       "        vertical-align: middle;\n",
       "    }\n",
       "\n",
       "    .dataframe tbody tr th {\n",
       "        vertical-align: top;\n",
       "    }\n",
       "\n",
       "    .dataframe thead th {\n",
       "        text-align: right;\n",
       "    }\n",
       "</style>\n",
       "<table border=\"1\" class=\"dataframe\">\n",
       "  <thead>\n",
       "    <tr style=\"text-align: right;\">\n",
       "      <th></th>\n",
       "      <th>Pedido</th>\n",
       "      <th>Fecha_Ingreso_Pedido</th>\n",
       "      <th>Hora_Ingreso_Pedido</th>\n",
       "      <th>Destino</th>\n",
       "      <th>Toneladas_Pedidas</th>\n",
       "      <th>Tiempo_de_Carga_(min)</th>\n",
       "      <th>Tiempo_de_Entrega_(min)</th>\n",
       "    </tr>\n",
       "  </thead>\n",
       "  <tbody>\n",
       "    <tr>\n",
       "      <th>33</th>\n",
       "      <td>#0901036</td>\n",
       "      <td>1/15/22</td>\n",
       "      <td>17</td>\n",
       "      <td>Junín</td>\n",
       "      <td>NaN</td>\n",
       "      <td>37</td>\n",
       "      <td>39</td>\n",
       "    </tr>\n",
       "    <tr>\n",
       "      <th>248</th>\n",
       "      <td>#0901251</td>\n",
       "      <td>3/29/22</td>\n",
       "      <td>17</td>\n",
       "      <td>Junín</td>\n",
       "      <td>NaN</td>\n",
       "      <td>21</td>\n",
       "      <td>43</td>\n",
       "    </tr>\n",
       "    <tr>\n",
       "      <th>285</th>\n",
       "      <td>#0901288</td>\n",
       "      <td>4/8/22</td>\n",
       "      <td>10</td>\n",
       "      <td>Mar del Plata</td>\n",
       "      <td>NaN</td>\n",
       "      <td>39</td>\n",
       "      <td>49</td>\n",
       "    </tr>\n",
       "    <tr>\n",
       "      <th>346</th>\n",
       "      <td>#0901349</td>\n",
       "      <td>5/1/22</td>\n",
       "      <td>11</td>\n",
       "      <td>Junín</td>\n",
       "      <td>12.0</td>\n",
       "      <td>29</td>\n",
       "      <td>NaN</td>\n",
       "    </tr>\n",
       "    <tr>\n",
       "      <th>488</th>\n",
       "      <td>#0901491</td>\n",
       "      <td>6/24/22</td>\n",
       "      <td>16</td>\n",
       "      <td>La Plata</td>\n",
       "      <td>6.0</td>\n",
       "      <td>25</td>\n",
       "      <td>NaN</td>\n",
       "    </tr>\n",
       "    <tr>\n",
       "      <th>601</th>\n",
       "      <td>#0901604</td>\n",
       "      <td>8/3/22</td>\n",
       "      <td>16</td>\n",
       "      <td>Mar del Plata</td>\n",
       "      <td>8.0</td>\n",
       "      <td>28</td>\n",
       "      <td>NaN</td>\n",
       "    </tr>\n",
       "    <tr>\n",
       "      <th>920</th>\n",
       "      <td>#0901923</td>\n",
       "      <td>11/29/22</td>\n",
       "      <td>9</td>\n",
       "      <td>Mar del Plata</td>\n",
       "      <td>10.0</td>\n",
       "      <td>NaN</td>\n",
       "      <td>43</td>\n",
       "    </tr>\n",
       "  </tbody>\n",
       "</table>\n",
       "</div>"
      ],
      "text/plain": [
       "       Pedido Fecha_Ingreso_Pedido  Hora_Ingreso_Pedido        Destino  \\\n",
       "33   #0901036              1/15/22                   17          Junín   \n",
       "248  #0901251              3/29/22                   17          Junín   \n",
       "285  #0901288               4/8/22                   10  Mar del Plata   \n",
       "346  #0901349               5/1/22                   11          Junín   \n",
       "488  #0901491              6/24/22                   16       La Plata   \n",
       "601  #0901604               8/3/22                   16  Mar del Plata   \n",
       "920  #0901923             11/29/22                    9  Mar del Plata   \n",
       "\n",
       "     Toneladas_Pedidas Tiempo_de_Carga_(min) Tiempo_de_Entrega_(min)  \n",
       "33                 NaN                   37                      39   \n",
       "248                NaN                   21                      43   \n",
       "285                NaN                   39                      49   \n",
       "346               12.0                   29                      NaN  \n",
       "488                6.0                   25                      NaN  \n",
       "601                8.0                   28                      NaN  \n",
       "920               10.0                   NaN                     43   "
      ]
     },
     "execution_count": 171,
     "metadata": {},
     "output_type": "execute_result"
    }
   ],
   "source": [
    "#Asigno faltantes para filtrar\n",
    "faltantes = df.isnull()\n",
    "\n",
    "#Veo donde faltan los resultados\n",
    "total_faltantes = faltantes.sum()\n",
    "\n",
    "print(total_faltantes) #Faltan 7 datos\n",
    "\n",
    "#Chequeo si los faltantes estan todos en la misma linea o en diferentes\n",
    "print(faltantes.value_counts()) #faltan en 7 filas diferentes\n",
    "\n",
    "#Filas con datos faltantes\n",
    "faltantes_por_columna = faltantes.sum(axis=1).astype(bool)\n",
    "\n",
    "filas_con_faltantes = df[faltantes_por_columna]\n",
    "\n",
    "filas_con_faltantes"
   ]
  },
  {
   "cell_type": "code",
   "execution_count": 172,
   "metadata": {},
   "outputs": [
    {
     "name": "stdout",
     "output_type": "stream",
     "text": [
      "<class 'pandas.core.frame.DataFrame'>\n",
      "Int64Index: 993 entries, 0 to 999\n",
      "Data columns (total 7 columns):\n",
      " #   Column                   Non-Null Count  Dtype  \n",
      "---  ------                   --------------  -----  \n",
      " 0   Pedido                   993 non-null    object \n",
      " 1   Fecha_Ingreso_Pedido     993 non-null    object \n",
      " 2   Hora_Ingreso_Pedido      993 non-null    int64  \n",
      " 3   Destino                  993 non-null    object \n",
      " 4   Toneladas_Pedidas        993 non-null    float64\n",
      " 5   Tiempo_de_Carga_(min)    993 non-null    object \n",
      " 6   Tiempo_de_Entrega_(min)  993 non-null    object \n",
      "dtypes: float64(1), int64(1), object(5)\n",
      "memory usage: 62.1+ KB\n"
     ]
    }
   ],
   "source": [
    "#Elimino las filas con datos faltantes --> (SE PUEDE HACER ALGO MEJOR)\n",
    "df = df.dropna()\n",
    "\n",
    "df.info()\n"
   ]
  },
  {
   "attachments": {},
   "cell_type": "markdown",
   "metadata": {},
   "source": [
    "Limpio la data\n",
    "    -Pedidos\n",
    "        ~Elimno el #\n",
    "        ~Cambio el tipo de dato a int\n",
    "    -Fecha_Ingreso_Pedido \n",
    "        ~Cambiar tipo de dato a fecha\n",
    "    -Hora_Ingreso_Pedido (OK)\n",
    "    -Destino\n",
    "        ~Pasar a category\n",
    "    -Toneladas_Pedidas (OK)\n",
    "    -Tiempo_de_Carga\n",
    "        ~Elimino los dos primero caracteres\n",
    "        ~Modifico a int\n",
    "    - Tiempo_de_Entrega\n",
    "        ~idem anterior"
   ]
  },
  {
   "cell_type": "code",
   "execution_count": 173,
   "metadata": {},
   "outputs": [
    {
     "name": "stdout",
     "output_type": "stream",
     "text": [
      "<class 'pandas.core.frame.DataFrame'>\n",
      "Int64Index: 993 entries, 0 to 999\n",
      "Data columns (total 7 columns):\n",
      " #   Column                   Non-Null Count  Dtype         \n",
      "---  ------                   --------------  -----         \n",
      " 0   Pedido                   993 non-null    int32         \n",
      " 1   Fecha_Ingreso_Pedido     993 non-null    datetime64[ns]\n",
      " 2   Hora_Ingreso_Pedido      993 non-null    int64         \n",
      " 3   Destino                  993 non-null    category      \n",
      " 4   Toneladas_Pedidas        993 non-null    float64       \n",
      " 5   Tiempo_de_Carga_(min)    993 non-null    object        \n",
      " 6   Tiempo_de_Entrega_(min)  993 non-null    object        \n",
      "dtypes: category(1), datetime64[ns](1), float64(1), int32(1), int64(1), object(2)\n",
      "memory usage: 52.1+ KB\n"
     ]
    }
   ],
   "source": [
    "#Pedido\n",
    "#Elimino el \"#\"\n",
    "df.Pedido = df.Pedido.astype(str)\n",
    "df['Pedido'] = df['Pedido'].str.replace('#', '')\n",
    "#Modifico el tipo a int\n",
    "df.Pedido = df.Pedido.astype(int)\n",
    "\n",
    "#Fecha Ingreso Pedido to_datetime\n",
    "df['Fecha_Ingreso_Pedido'] = pd.to_datetime(df['Fecha_Ingreso_Pedido'])\n",
    "\n",
    "#Destino --> Category\n",
    "df.Destino = pd.Categorical(df['Destino'])\n",
    "df.head()\n",
    "df.info()"
   ]
  },
  {
   "cell_type": "code",
   "execution_count": 174,
   "metadata": {},
   "outputs": [
    {
     "data": {
      "text/html": [
       "<div>\n",
       "<style scoped>\n",
       "    .dataframe tbody tr th:only-of-type {\n",
       "        vertical-align: middle;\n",
       "    }\n",
       "\n",
       "    .dataframe tbody tr th {\n",
       "        vertical-align: top;\n",
       "    }\n",
       "\n",
       "    .dataframe thead th {\n",
       "        text-align: right;\n",
       "    }\n",
       "</style>\n",
       "<table border=\"1\" class=\"dataframe\">\n",
       "  <thead>\n",
       "    <tr style=\"text-align: right;\">\n",
       "      <th></th>\n",
       "      <th>Pedido</th>\n",
       "      <th>Fecha_Ingreso_Pedido</th>\n",
       "      <th>Hora_Ingreso_Pedido</th>\n",
       "      <th>Destino</th>\n",
       "      <th>Toneladas_Pedidas</th>\n",
       "      <th>Tiempo_de_Carga_(min)</th>\n",
       "      <th>Tiempo_de_Entrega_(min)</th>\n",
       "    </tr>\n",
       "  </thead>\n",
       "  <tbody>\n",
       "    <tr>\n",
       "      <th>0</th>\n",
       "      <td>901003</td>\n",
       "      <td>2022-01-01</td>\n",
       "      <td>14</td>\n",
       "      <td>Junín</td>\n",
       "      <td>6.0</td>\n",
       "      <td>40</td>\n",
       "      <td>41</td>\n",
       "    </tr>\n",
       "    <tr>\n",
       "      <th>1</th>\n",
       "      <td>901004</td>\n",
       "      <td>2022-01-01</td>\n",
       "      <td>11</td>\n",
       "      <td>Tandil</td>\n",
       "      <td>5.0</td>\n",
       "      <td>21</td>\n",
       "      <td>410</td>\n",
       "    </tr>\n",
       "    <tr>\n",
       "      <th>2</th>\n",
       "      <td>901005</td>\n",
       "      <td>2022-01-01</td>\n",
       "      <td>15</td>\n",
       "      <td>Junín</td>\n",
       "      <td>10.0</td>\n",
       "      <td>32</td>\n",
       "      <td>41</td>\n",
       "    </tr>\n",
       "    <tr>\n",
       "      <th>3</th>\n",
       "      <td>901006</td>\n",
       "      <td>2022-01-02</td>\n",
       "      <td>9</td>\n",
       "      <td>Tandil</td>\n",
       "      <td>5.0</td>\n",
       "      <td>30</td>\n",
       "      <td>38</td>\n",
       "    </tr>\n",
       "    <tr>\n",
       "      <th>4</th>\n",
       "      <td>901007</td>\n",
       "      <td>2022-01-02</td>\n",
       "      <td>14</td>\n",
       "      <td>Junín</td>\n",
       "      <td>5.0</td>\n",
       "      <td>39</td>\n",
       "      <td>45</td>\n",
       "    </tr>\n",
       "  </tbody>\n",
       "</table>\n",
       "</div>"
      ],
      "text/plain": [
       "   Pedido Fecha_Ingreso_Pedido  Hora_Ingreso_Pedido Destino  \\\n",
       "0  901003           2022-01-01                   14   Junín   \n",
       "1  901004           2022-01-01                   11  Tandil   \n",
       "2  901005           2022-01-01                   15   Junín   \n",
       "3  901006           2022-01-02                    9  Tandil   \n",
       "4  901007           2022-01-02                   14   Junín   \n",
       "\n",
       "   Toneladas_Pedidas Tiempo_de_Carga_(min) Tiempo_de_Entrega_(min)  \n",
       "0                6.0                   40                      41   \n",
       "1                5.0                   21                     410   \n",
       "2               10.0                   32                      41   \n",
       "3                5.0                   30                      38   \n",
       "4                5.0                   39                      45   "
      ]
     },
     "execution_count": 174,
     "metadata": {},
     "output_type": "execute_result"
    }
   ],
   "source": [
    "#Reviso columna Hora_Ingreso_Pedido\n",
    "\n",
    "df['Hora_Ingreso_Pedido'].describe() #Hay por lo menos un valor que es > 24\n",
    "#Chequeo cuantos hay, encuentro solamente uno\n",
    "hora_fuera_de_rango = df[df[\"Hora_Ingreso_Pedido\"] > 23] # Hay solo un dato\n",
    "hora_fuera_de_rango.index\n",
    "\n",
    "df = df.drop(hora_fuera_de_rango.index)#Elimino la fila, se puede hacer algo mejor\n",
    "df.head()"
   ]
  },
  {
   "cell_type": "code",
   "execution_count": 175,
   "metadata": {},
   "outputs": [
    {
     "name": "stdout",
     "output_type": "stream",
     "text": [
      "Index([' Tandil', 'JUNIN', 'Junin', 'Juní n', 'Junín', 'LA PLATA', 'La Plata',\n",
      "       'LaPlata', 'MDQ', 'Mar del Plata', 'Mar delPlata', 'Mardel',\n",
      "       'Mardel Plata', 'Olavarria', 'Olavarría', 'TANDIL', 'Tandil',\n",
      "       'Tandill'],\n",
      "      dtype='object')\n",
      "{'Mar del Plata': 'Mar del Plata', 'Junín': 'Junín', 'Tandil': 'Tandil', 'La Plata': 'La Plata', 'Olavarría': 'Olavarría', 'MDQ': 'Mar del Plata', 'Olavarria': 'Olavarría', 'JUNIN': 'Junín', 'Mardel': 'Mar del Plata', 'TANDIL': 'Tandil', 'Mardel Plata': 'Mar del Plata', ' Tandil': 'Tandil', 'Mar delPlata': 'Mar del Plata', 'LaPlata': 'La Plata', 'LA PLATA': 'La Plata', 'Juní n': 'Junín', 'Junin': 'Junín', 'Tandill': 'Tandil'}\n"
     ]
    }
   ],
   "source": [
    "#Destino\n",
    "print(df['Destino'].cat.categories)\n",
    "serie_categorias = df['Destino'].value_counts() # Veo que los nombres correctos son los 5 primeros\n",
    "\n",
    "#Uso el .index e itero sobre los primeros 5 valores\n",
    "dict_categorias = serie_categorias.to_dict()\n",
    "\n",
    "indice = serie_categorias.index\n",
    "\n",
    "for i in indice:\n",
    "    dict_categorias[i] = ''\n",
    "\n",
    "#Hago los primeros 5 de manera automatica\n",
    "for i in range(0,5):\n",
    "    dict_categorias[indice[i]] = indice[i]\n",
    "\n",
    "# A mano uno por uno hay que reemplazar por el nombre correcto\n",
    "dict_categorias['MDQ'] = indice[0]\n",
    "dict_categorias['Mar delPlata'] = indice[0]\n",
    "dict_categorias['Mardel Plata'] = indice[0] \n",
    "dict_categorias['Mardel'] = indice[0]\n",
    "dict_categorias['Juní n'] = indice[1] \n",
    "dict_categorias['Junin'] = indice[1]\n",
    "dict_categorias['JUNIN'] = indice[1]\n",
    "dict_categorias[' Tandil'] = indice[2]\n",
    "dict_categorias['TANDIL'] = indice[2]\n",
    "dict_categorias['Tandill'] = indice[2]\n",
    "dict_categorias['LA PLATA'] = indice[3]\n",
    "dict_categorias['LaPlata'] = indice[3]\n",
    "dict_categorias['Olavarria'] = indice[4]\n",
    "print(dict_categorias)\n"
   ]
  },
  {
   "cell_type": "code",
   "execution_count": 176,
   "metadata": {},
   "outputs": [
    {
     "name": "stdout",
     "output_type": "stream",
     "text": [
      "<class 'pandas.core.frame.DataFrame'>\n",
      "Int64Index: 992 entries, 0 to 999\n",
      "Data columns (total 7 columns):\n",
      " #   Column                   Non-Null Count  Dtype         \n",
      "---  ------                   --------------  -----         \n",
      " 0   Pedido                   992 non-null    int32         \n",
      " 1   Fecha_Ingreso_Pedido     992 non-null    datetime64[ns]\n",
      " 2   Hora_Ingreso_Pedido      992 non-null    int64         \n",
      " 3   Destino                  992 non-null    category      \n",
      " 4   Toneladas_Pedidas        992 non-null    float64       \n",
      " 5   Tiempo_de_Carga_(min)    992 non-null    object        \n",
      " 6   Tiempo_de_Entrega_(min)  992 non-null    object        \n",
      "dtypes: category(1), datetime64[ns](1), float64(1), int32(1), int64(1), object(2)\n",
      "memory usage: 51.6+ KB\n"
     ]
    }
   ],
   "source": [
    "#Mapeo el diccionario para no tener incosistencia en los nombres de la ciudades\n",
    "df['Destino'] = df['Destino'].map(dict_categorias)\n",
    "df['Destino'] = pd.Categorical(df['Destino'])\n",
    "df.info()\n",
    "\n"
   ]
  },
  {
   "cell_type": "code",
   "execution_count": 177,
   "metadata": {},
   "outputs": [],
   "source": [
    "#Elimine los espacios de las últimas dos columnas\n",
    "df['Tiempo_de_Carga_(min)'] = df['Tiempo_de_Carga_(min)'].replace(' ', '')\n",
    "df['Tiempo_de_Entrega_(min)'] = df['Tiempo_de_Entrega_(min)'].replace(' ', '')"
   ]
  },
  {
   "cell_type": "code",
   "execution_count": 178,
   "metadata": {},
   "outputs": [],
   "source": [
    "#Fechas\n",
    "#Dia de semana\n",
    "df['Dia_Semana'] = df['Fecha_Ingreso_Pedido'].dt.dayofweek\n",
    "df['Dia_Semana'] = df.Dia_Semana.astype(int)\n",
    "\n",
    "dias = ['LU', 'MA', 'MI', 'JU', 'VI', 'SA', 'DO']\n",
    "\n",
    "for day in dias:\n",
    "    df.loc[df['Dia_Semana'] == dias.index(day), 'Dia_Semana'] = day\n",
    "\n",
    "df.Dia_Semana = pd.Categorical(df['Dia_Semana'])"
   ]
  },
  {
   "attachments": {},
   "cell_type": "markdown",
   "metadata": {},
   "source": [
    "Eliminé toda las filas com datos nulos(se puede hacer algo mejor)"
   ]
  },
  {
   "cell_type": "code",
   "execution_count": 179,
   "metadata": {},
   "outputs": [
    {
     "data": {
      "text/html": [
       "<div>\n",
       "<style scoped>\n",
       "    .dataframe tbody tr th:only-of-type {\n",
       "        vertical-align: middle;\n",
       "    }\n",
       "\n",
       "    .dataframe tbody tr th {\n",
       "        vertical-align: top;\n",
       "    }\n",
       "\n",
       "    .dataframe thead th {\n",
       "        text-align: right;\n",
       "    }\n",
       "</style>\n",
       "<table border=\"1\" class=\"dataframe\">\n",
       "  <thead>\n",
       "    <tr style=\"text-align: right;\">\n",
       "      <th></th>\n",
       "      <th>Pedido</th>\n",
       "      <th>Fecha_Ingreso_Pedido</th>\n",
       "      <th>Hora_Ingreso_Pedido</th>\n",
       "      <th>Destino</th>\n",
       "      <th>Toneladas_Pedidas</th>\n",
       "      <th>Tiempo_de_Carga_(min)</th>\n",
       "      <th>Tiempo_de_Entrega_(min)</th>\n",
       "      <th>Dia_Semana</th>\n",
       "    </tr>\n",
       "  </thead>\n",
       "  <tbody>\n",
       "    <tr>\n",
       "      <th>150</th>\n",
       "      <td>901153</td>\n",
       "      <td>2022-02-17</td>\n",
       "      <td>11</td>\n",
       "      <td>Junín</td>\n",
       "      <td>12.0</td>\n",
       "      <td>-</td>\n",
       "      <td>39</td>\n",
       "      <td>JU</td>\n",
       "    </tr>\n",
       "    <tr>\n",
       "      <th>251</th>\n",
       "      <td>901254</td>\n",
       "      <td>2022-03-30</td>\n",
       "      <td>13</td>\n",
       "      <td>Junín</td>\n",
       "      <td>12.0</td>\n",
       "      <td>-</td>\n",
       "      <td>40</td>\n",
       "      <td>MI</td>\n",
       "    </tr>\n",
       "    <tr>\n",
       "      <th>305</th>\n",
       "      <td>901308</td>\n",
       "      <td>2022-04-16</td>\n",
       "      <td>12</td>\n",
       "      <td>Junín</td>\n",
       "      <td>3.0</td>\n",
       "      <td>-</td>\n",
       "      <td>42</td>\n",
       "      <td>SA</td>\n",
       "    </tr>\n",
       "    <tr>\n",
       "      <th>878</th>\n",
       "      <td>901881</td>\n",
       "      <td>2022-11-19</td>\n",
       "      <td>12</td>\n",
       "      <td>Tandil</td>\n",
       "      <td>4.0</td>\n",
       "      <td>-</td>\n",
       "      <td>44</td>\n",
       "      <td>SA</td>\n",
       "    </tr>\n",
       "  </tbody>\n",
       "</table>\n",
       "</div>"
      ],
      "text/plain": [
       "     Pedido Fecha_Ingreso_Pedido  Hora_Ingreso_Pedido Destino  \\\n",
       "150  901153           2022-02-17                   11   Junín   \n",
       "251  901254           2022-03-30                   13   Junín   \n",
       "305  901308           2022-04-16                   12   Junín   \n",
       "878  901881           2022-11-19                   12  Tandil   \n",
       "\n",
       "     Toneladas_Pedidas Tiempo_de_Carga_(min) Tiempo_de_Entrega_(min)  \\\n",
       "150               12.0                  -                        39    \n",
       "251               12.0                  -                        40    \n",
       "305                3.0                  -                        42    \n",
       "878                4.0                  -                        44    \n",
       "\n",
       "    Dia_Semana  \n",
       "150         JU  \n",
       "251         MI  \n",
       "305         SA  \n",
       "878         SA  "
      ]
     },
     "execution_count": 179,
     "metadata": {},
     "output_type": "execute_result"
    }
   ],
   "source": [
    "#Tiempo de carga\n",
    "#Hay datos que no son numeros!!!!\n",
    "#Armo una funcion para ver cuales son\n",
    "expresion_regular = '\\d' #Es solo numeros (REVISAR -- > FUNCIONA BIEN PERO A MI ENTENDER DEBERIAMOS SELECCIONAR DE LA FORMA OPUESTA)\n",
    "\n",
    "filter_criteria = df['Tiempo_de_Carga_(min)'].str.contains(expresion_regular, regex = True)\n",
    "no_numericos_tiempo_de_carga  = df[np.logical_not(filter_criteria)]\n",
    "#Elimino las celdas con conteido no numerico\n",
    "df = df.drop(labels = no_numericos_tiempo_de_carga.index)\n",
    "#Muestro entradas elimindas\n",
    "no_numericos_tiempo_de_carga.head()"
   ]
  },
  {
   "cell_type": "code",
   "execution_count": 180,
   "metadata": {},
   "outputs": [
    {
     "data": {
      "text/html": [
       "<div>\n",
       "<style scoped>\n",
       "    .dataframe tbody tr th:only-of-type {\n",
       "        vertical-align: middle;\n",
       "    }\n",
       "\n",
       "    .dataframe tbody tr th {\n",
       "        vertical-align: top;\n",
       "    }\n",
       "\n",
       "    .dataframe thead th {\n",
       "        text-align: right;\n",
       "    }\n",
       "</style>\n",
       "<table border=\"1\" class=\"dataframe\">\n",
       "  <thead>\n",
       "    <tr style=\"text-align: right;\">\n",
       "      <th></th>\n",
       "      <th>Pedido</th>\n",
       "      <th>Fecha_Ingreso_Pedido</th>\n",
       "      <th>Hora_Ingreso_Pedido</th>\n",
       "      <th>Destino</th>\n",
       "      <th>Toneladas_Pedidas</th>\n",
       "      <th>Tiempo_de_Carga_(min)</th>\n",
       "      <th>Tiempo_de_Entrega_(min)</th>\n",
       "      <th>Dia_Semana</th>\n",
       "    </tr>\n",
       "  </thead>\n",
       "  <tbody>\n",
       "    <tr>\n",
       "      <th>98</th>\n",
       "      <td>901101</td>\n",
       "      <td>2022-02-04</td>\n",
       "      <td>13</td>\n",
       "      <td>Mar del Plata</td>\n",
       "      <td>4.0</td>\n",
       "      <td>26</td>\n",
       "      <td>-</td>\n",
       "      <td>VI</td>\n",
       "    </tr>\n",
       "  </tbody>\n",
       "</table>\n",
       "</div>"
      ],
      "text/plain": [
       "    Pedido Fecha_Ingreso_Pedido  Hora_Ingreso_Pedido        Destino  \\\n",
       "98  901101           2022-02-04                   13  Mar del Plata   \n",
       "\n",
       "    Toneladas_Pedidas Tiempo_de_Carga_(min) Tiempo_de_Entrega_(min) Dia_Semana  \n",
       "98                4.0                   26                     -            VI  "
      ]
     },
     "execution_count": 180,
     "metadata": {},
     "output_type": "execute_result"
    }
   ],
   "source": [
    "#Tiempo de Entrega\n",
    "#Selecciono datos que no son numeros\n",
    "filter_criteria = df['Tiempo_de_Entrega_(min)'].str.contains(expresion_regular, regex = True)\n",
    "#Elimino los datos no nulos\n",
    "no_numericos_tiempo_de_entrega  = df[np.logical_not(filter_criteria)]\n",
    "df = df.drop(no_numericos_tiempo_de_entrega.index)\n",
    "#Muestro las filas elimindas\n",
    "no_numericos_tiempo_de_entrega.head()"
   ]
  },
  {
   "cell_type": "code",
   "execution_count": 181,
   "metadata": {},
   "outputs": [
    {
     "name": "stdout",
     "output_type": "stream",
     "text": [
      "<class 'pandas.core.frame.DataFrame'>\n",
      "Int64Index: 987 entries, 0 to 999\n",
      "Data columns (total 8 columns):\n",
      " #   Column                   Non-Null Count  Dtype         \n",
      "---  ------                   --------------  -----         \n",
      " 0   Pedido                   987 non-null    int32         \n",
      " 1   Fecha_Ingreso_Pedido     987 non-null    datetime64[ns]\n",
      " 2   Hora_Ingreso_Pedido      987 non-null    int64         \n",
      " 3   Destino                  987 non-null    category      \n",
      " 4   Toneladas_Pedidas        987 non-null    float64       \n",
      " 5   Tiempo_de_Carga_(min)    987 non-null    float64       \n",
      " 6   Tiempo_de_Entrega_(min)  987 non-null    int64         \n",
      " 7   Dia_Semana               987 non-null    category      \n",
      "dtypes: category(2), datetime64[ns](1), float64(2), int32(1), int64(2)\n",
      "memory usage: 52.6 KB\n"
     ]
    }
   ],
   "source": [
    "#Modifico los datos de Tiempo de Carga y Tiempo de Entrega a numeric (LO IDEAL ES A INT PERO HAY SEPARADOR DECIMAL'.' Y NO ENCONTRÉ COMO HACERLO)\n",
    "df['Tiempo_de_Carga_(min)'] = pd.to_numeric(df['Tiempo_de_Carga_(min)'])\n",
    "df['Tiempo_de_Entrega_(min)'] = pd.to_numeric(df['Tiempo_de_Entrega_(min)'])\n",
    "df.info()"
   ]
  },
  {
   "cell_type": "code",
   "execution_count": 182,
   "metadata": {},
   "outputs": [],
   "source": [
    "#Exportacion de data limpia\n",
    "df.to_csv('TP1_datalimpia.csv', sep = ';')"
   ]
  },
  {
   "cell_type": "code",
   "execution_count": 183,
   "metadata": {},
   "outputs": [],
   "source": [
    "#Importamos matplotlib.pyplot\n",
    "import matplotlib.pyplot as plt\n"
   ]
  },
  {
   "cell_type": "code",
   "execution_count": 184,
   "metadata": {},
   "outputs": [
    {
     "data": {
      "image/png": "[encoded data removed]",
      "text/plain": [
       "<Figure size 640x480 with 1 Axes>"
      ]
     },
     "metadata": {},
     "output_type": "display_data"
    }
   ],
   "source": [
    "#Analisis de pedidos por ciudad\n",
    "counts = df['Destino'].value_counts()\n",
    "plt.pie(counts.values, labels = counts.index, autopct= '%1.1f%%')\n",
    "plt.title(label = \"Procentaje de Pedidos por ciudad\")\n",
    "plt.show()"
   ]
  },
  {
   "cell_type": "code",
   "execution_count": 185,
   "metadata": {},
   "outputs": [
    {
     "data": {
      "image/png": "[encoded data removed]",
      "text/plain": [
       "<Figure size 640x480 with 1 Axes>"
      ]
     },
     "metadata": {},
     "output_type": "display_data"
    }
   ],
   "source": [
    "fecha = df['Fecha_Ingreso_Pedido']\n",
    "\n",
    "plt.hist(fecha.values, bins = 365)\n",
    "plt.show()\n"
   ]
  },
  {
   "cell_type": "code",
   "execution_count": 186,
   "metadata": {},
   "outputs": [
    {
     "data": {
      "image/png": "[encoded data removed]",
      "text/plain": [
       "<Figure size 640x480 with 1 Axes>"
      ]
     },
     "metadata": {},
     "output_type": "display_data"
    },
    {
     "data": {
      "text/plain": [
       "count    987.000000\n",
       "mean      13.454914\n",
       "std        2.867023\n",
       "min        9.000000\n",
       "25%       11.000000\n",
       "50%       14.000000\n",
       "75%       16.000000\n",
       "max       18.000000\n",
       "Name: Hora_Ingreso_Pedido, dtype: float64"
      ]
     },
     "execution_count": 186,
     "metadata": {},
     "output_type": "execute_result"
    }
   ],
   "source": [
    "#Hago un grafico para ver las distribucion por hora\n",
    "\n",
    "plt.hist(df['Hora_Ingreso_Pedido'], bins = 10)\n",
    "plt.show()\n",
    "df['Hora_Ingreso_Pedido'].describe() #Rango de datos entre las 9-18hs ->POSIBLE HORARIO DE ATENCION"
   ]
  },
  {
   "cell_type": "code",
   "execution_count": 187,
   "metadata": {},
   "outputs": [],
   "source": [
    "#Hora por dia de la semana\n",
    "\n"
   ]
  },
  {
   "cell_type": "code",
   "execution_count": 201,
   "metadata": {},
   "outputs": [
    {
     "name": "stdout",
     "output_type": "stream",
     "text": [
      "['LU', 'MA', 'MI', 'JU', 'VI', 'SA', 'DO']\n"
     ]
    },
    {
     "data": {
      "image/png": "[encoded data removed]",
      "text/plain": [
       "<Figure size 640x480 with 7 Axes>"
      ]
     },
     "metadata": {},
     "output_type": "display_data"
    }
   ],
   "source": [
    "#Hago un histograma para ver como se ditribuyen los dias de pedido por ciudad (5GRAFICOS)\n",
    "fig, ax =plt.subplots(7)\n",
    "\n",
    "print(dias)\n",
    "for dia in range(0,7):\n",
    "    por_dia = df[df['Dia_Semana'] == dias[dia]]\n",
    "    hora_por_dia = por_dia['Hora_Ingreso_Pedido']\n",
    "    #print(hora_por_dia.values)\n",
    "    ax[dia].hist(hora_por_dia.values)\n",
    "    #ax[dia].title(dias[dia])\n",
    "\n",
    "\n",
    "plt.hist(hora_por_dia)\n",
    "plt.show()\n"
   ]
  }
 ],
 "metadata": {
  "kernelspec": {
   "display_name": "Python 3",
   "language": "python",
   "name": "python3"
  },
  "language_info": {
   "codemirror_mode": {
    "name": "ipython",
    "version": 3
   },
   "file_extension": ".py",
   "mimetype": "text/x-python",
   "name": "python",
   "nbconvert_exporter": "python",
   "pygments_lexer": "ipython3",
   "version": "3.9.0"
  },
  "orig_nbformat": 4
 },
 "nbformat": 4,
 "nbformat_minor": 2
}
